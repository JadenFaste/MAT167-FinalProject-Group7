{
 "cells": [
  {
   "cell_type": "markdown",
   "metadata": {},
   "source": [
    "1. If a user searches for \"Butternut\", what webpage(s) should be\n",
    "returned and in what order?"
   ]
  },
  {
   "cell_type": "markdown",
   "metadata": {},
   "source": [
    "For Reference\n",
    "\n",
    "WebPage A: Trees For All - Ash, Butternut, Cherry, Elm, Katsura, Magnolia, Teak, Ginkgo\n",
    "WebPage B: The Weeping Willow - Butternut, Fir, Hickory, Magnolia, Pine, Willow, Redwood, Sassafras\n",
    "WebPage C: Leaf Fall - Ash, Elm, Hickory, Katsura, Oak, Ginkgo, Redwood\n",
    "WebPage D: Shady Place - Butternut, Cherry, Fir, Spruce, Teak, Aspen, Sassafras\n",
    "WebPage E: The Prickly Pine - Cherry, Hickory, Oak, Pine, Willow, Redwood\n",
    "WebPage F: Good Wood - Ash, Fir, Magnolia, Spruce, Ginkgo, Redwood, Aspen, Sassafras\n",
    "WebPage G: Lumber Jack Man - Ash, Butternut, Oak, Spruce, Ginkgo, Redwood\n",
    "WebPage H: Timber! - Ash, Cherry, Hickory, Willow, Redwood, Aspen\n",
    "WebPage I: Fine Grains - Elm, Fir, Katsura, Magnolia, Pine, Spruce, Sassafras\n",
    "WebPage J: The Warped Board - Magnolia, Oak, Willow, Redwood, Aspen, Sassafras\n",
    "WebPage K: Evergreen Plants - Cherry, Elm, Fir, Hickory, Teak, Ginkgo, Redwood, Sassafras\n",
    "WebPage L: Sappy Planks - Butternut, Elm, Katsura, Oak, Pine, Spruce, Teak, Ginkgo, Aspen, Sassafras\n",
    "\n",
    "Ash, Butternut, Cherry, Elm, Fir, Hickory, Katsura, Magnolia, Oak, Pine, Willow, Spruce, Teak, Ginkgo, Redwood, Aspen, Sassafras"
   ]
  },
  {
   "cell_type": "code",
   "execution_count": 6,
   "metadata": {},
   "outputs": [
    {
     "name": "stdout",
     "output_type": "stream",
     "text": [
      "[[0.         0.33333333 0.33333333 0.         0.         0.\n",
      "  0.         0.33333333 0.         0.         0.         0.        ]\n",
      " [0.33333333 0.         0.         0.33333333 0.33333333 0.\n",
      "  0.         0.         0.         0.         0.         0.        ]\n",
      " [0.         0.33333333 0.         0.33333333 0.         0.\n",
      "  0.         0.33333333 0.         0.         0.         0.        ]\n",
      " [0.         0.         0.         0.         0.         0.\n",
      "  0.         0.         0.         0.         0.         0.        ]\n",
      " [0.         0.5        0.         0.         0.         0.\n",
      "  0.5        0.         0.         0.         0.         0.        ]\n",
      " [0.         0.2        0.2        0.         0.2        0.\n",
      "  0.2        0.         0.         0.         0.         0.        ]\n",
      " [0.         0.         0.         0.         0.5        0.\n",
      "  0.         0.         0.         0.5        0.         0.        ]\n",
      " [0.         0.         0.         0.         0.         0.5\n",
      "  0.         0.         0.         0.5        0.         0.        ]\n",
      " [0.         0.         0.         0.         0.         0.\n",
      "  0.5        0.         0.         0.5        0.         0.        ]\n",
      " [0.         0.         0.         0.         0.         0.\n",
      "  0.         0.         0.         0.         1.         0.        ]\n",
      " [0.         0.         0.         0.         0.         0.\n",
      "  0.         0.5        0.         0.         0.         0.5       ]\n",
      " [0.         0.         0.         0.         0.         0.\n",
      "  0.         0.5        0.         0.5        0.         0.        ]]\n"
     ]
    }
   ],
   "source": [
    "import numpy as np\n",
    "\n",
    "# Google Matrix\n",
    "gm = np.array([\n",
    "    #A   B    C   D  E  F  G   H  I  J  K   L\n",
    "    [0, 1/3, 1/3, 0, 0, 0, 0, 1/3, 0, 0, 0, 0], # A\n",
    "    [1/3, 0, 0, 1/3, 1/3, 0, 0, 0, 0, 0, 0, 0], # B\n",
    "    [0, 1/3, 0, 1/3, 0, 0, 0, 1/3, 0, 0, 0, 0], # C\n",
    "    [0, 0, 0, 0, 0, 0, 0, 0, 0, 0, 0, 0], # D\n",
    "    [0, 1/2, 0, 0, 0, 0, 1/2, 0, 0, 0, 0, 0], # E\n",
    "    [0, 1/4, 1/4, 0, 1/4, 0, 1/4, 0, 0, 0, 0, 0], # F\n",
    "    [0, 0, 0, 0, 1/2, 0, 0, 0, 0, 1/2, 0, 0], # G\n",
    "    [0, 0, 0, 0, 0, 1/2, 0, 0, 0, 1/2, 0, 0], # H\n",
    "    [0, 0, 0, 0, 0, 0, 1/2, 0, 0, 1/2, 0, 0], # I\n",
    "    [0, 0, 0, 0, 0, 0, 0, 0, 0, 0, 1, 0], # J\n",
    "    [0, 0, 0, 0, 0, 0, 0, 1/2, 0, 0, 0, 1/2], # K\n",
    "    [0, 0, 0, 0, 0, 0, 0, 1/2, 0, 1/2, 0, 0] # L\n",
    "])\n",
    "\n",
    "print(gm)\n"
   ]
  },
  {
   "cell_type": "markdown",
   "metadata": {},
   "source": [
    "2. If a user searches for \"Hickory\" OR \"Magnolia\" (only one is needed),\n",
    "what webpage(s) should be returned and in what order?"
   ]
  },
  {
   "cell_type": "markdown",
   "metadata": {},
   "source": [
    "3. If a user searches for \"Ginkgo\" AND \"Redwood\" (both needed), what\n",
    "webpage(s) should be returned and in what order?"
   ]
  },
  {
   "cell_type": "markdown",
   "metadata": {},
   "source": [
    "4. If a user searches for \"Sassafras\" NOT \"Willow\" (must have the first,\n",
    "but must NOT have the second), what webpage(s) should be returned and in\n",
    "what order?"
   ]
  }
 ],
 "metadata": {
  "kernelspec": {
   "display_name": "Python 3",
   "language": "python",
   "name": "python3"
  },
  "language_info": {
   "codemirror_mode": {
    "name": "ipython",
    "version": 3
   },
   "file_extension": ".py",
   "mimetype": "text/x-python",
   "name": "python",
   "nbconvert_exporter": "python",
   "pygments_lexer": "ipython3",
   "version": "3.12.4"
  }
 },
 "nbformat": 4,
 "nbformat_minor": 2
}
